{
 "cells": [
  {
   "cell_type": "code",
   "execution_count": null,
   "metadata": {},
   "outputs": [],
   "source": [
    "%matplotlib inline\n",
    "import pandas as pd\n",
    "from io import StringIO, BytesIO\n",
    "import matplotlib.pyplot as plt\n",
    "import numpy as np\n",
    "from IPython.display import Image\n",
    "from google.colab import files\n",
    "import re\n",
    "\n",
    "## some config\n",
    "lw = 4.0              ## plot linewidth\n",
    "figuresize = [20,12]  ## size of the plots"
   ]
  },
  {
   "cell_type": "markdown",
   "metadata": {},
   "source": [
    "Input files have to contain the output of ib\\_\\*\\_bw and ib\\_\\*\\_lat with the \"-a\" option in the follwing form:\n",
    "\n",
    "```\n",
    "...\n",
    "---------------------------------------------------------------------------------------\n",
    " local address: ...\n",
    " remote address: ...\n",
    "---------------------------------------------------------------------------------------\n",
    " #bytes     #iterations    BW peak[Gb/sec]    BW average[Gb/sec]   MsgRate[Mpps]\n",
    " 2          1000             0.09               0.087             5.444595\n",
    " 4          1000             0.22               0.21   \t\t   6.609449\n",
    " 8          1000             0.43               0.42   \t\t   6.651936\n",
    " 16         1000             0.85               0.83   \t\t   6.652351\n",
    " 32         1000             1.70               1.62   \t\t   6.648670\n",
    " 64         1000             3.43               3.43   \t\t   6.659067\n",
    " ...\n",
    " ```"
   ]
  },
  {
   "cell_type": "code",
   "execution_count": null,
   "metadata": {},
   "outputs": [],
   "source": [
    "def read_perftest_output(filename):\n",
    "    buffer=\"\"\n",
    "    with open(filename,'r') as f:\n",
    "        filetext = f.read()\n",
    "\n",
    "    # https://regex101.com/r/4NShAc/2\n",
    "    regex = r\"(?<=--\\n)( #bytes.*)(?=\\n--)\"\n",
    "    matches = re.search(regex, filetext, re.DOTALL)\n",
    "    if matches:\n",
    "        for line in matches.group(0).splitlines():\n",
    "            if line.startswith(\" #bytes\"):\n",
    "                buffer+= \",\".join(line.replace(\"BW\",\"\").replace(\"[Gb/sec]\",\"\").\\\n",
    "                                    replace(\"[Mpps]\",\"\").replace(\"#\",\"\").\\\n",
    "                                    replace(\"[usec]\",\"\").replace(\"percentile\",\"\").split()) + \"\\n\"\n",
    "            else:\n",
    "                buffer+= \",\".join(line.split()) + \"\\n\"\n",
    "            \n",
    "    return buffer"
   ]
  },
  {
   "cell_type": "markdown",
   "metadata": {},
   "source": [
    "## Bandwidth\n",
    "\n",
    "Upload the bandwidth file."
   ]
  },
  {
   "cell_type": "code",
   "execution_count": null,
   "metadata": {},
   "outputs": [],
   "source": [
    "upload = files.upload()\n",
    "filename = list(upload.keys())[0] "
   ]
  },
  {
   "cell_type": "code",
   "execution_count": null,
   "metadata": {},
   "outputs": [],
   "source": [
    "df = pd.read_csv(StringIO(read_perftest_output(filename)))"
   ]
  },
  {
   "cell_type": "code",
   "execution_count": null,
   "metadata": {},
   "outputs": [],
   "source": [
    "df.tail(5)"
   ]
  },
  {
   "cell_type": "code",
   "execution_count": null,
   "metadata": {},
   "outputs": [],
   "source": [
    "plt.rcParams['figure.figsize'] = figuresize\n",
    "plt.grid(True)\n",
    "plt.xscale('log', basex=2)\n",
    "plt.yscale('linear')\n",
    "plt.ylim(0, df.average.max()+10)\n",
    "plt.xlabel('Message Size [Bytes]')\n",
    "plt.ylabel('Bandwidth [Gbit/s]')\n",
    "\n",
    "plt.plot(df.bytes,df.average,linewidth=lw, label=\"Bandwidth\")\n",
    "\n",
    "plt.axhline(y=df.average.max(),color=\"green\", linestyle='dashed')\n",
    "plt.text(2,df.average.max()-3, 'max='+str(df.average.max())+'Gb/s', color='green')\n",
    "plt.legend()  "
   ]
  },
  {
   "cell_type": "markdown",
   "metadata": {},
   "source": [
    "## Latency\n",
    "\n",
    "Upload the latency file."
   ]
  },
  {
   "cell_type": "code",
   "execution_count": null,
   "metadata": {},
   "outputs": [],
   "source": [
    "upload = files.upload()\n",
    "filename = list(upload.keys())[0]"
   ]
  },
  {
   "cell_type": "code",
   "execution_count": null,
   "metadata": {},
   "outputs": [],
   "source": [
    "df = pd.read_csv(StringIO(read_perftest_output(filename)))"
   ]
  },
  {
   "cell_type": "code",
   "execution_count": null,
   "metadata": {},
   "outputs": [],
   "source": [
    "df.tail(5)"
   ]
  },
  {
   "cell_type": "code",
   "execution_count": null,
   "metadata": {},
   "outputs": [],
   "source": [
    "plt.grid(True)\n",
    "plt.xscale('log', basex=2)\n",
    "plt.yscale('log', basey=2)\n",
    "plt.xlabel('Message Size [Bytes]')\n",
    "plt.ylabel('Latency [$\\mu s$]')\n",
    "plt.grid(True, which=\"minor\", linestyle='--')\n",
    "\n",
    "\n",
    "plt.plot(df.bytes, df.t_min, linewidth=lw, label=\"Latency\")\n",
    "\n",
    "plt.axhline(y=df.t_avg.min(),color=\"green\", linestyle='dashed')\n",
    "plt.text(df.bytes.max()/2,df.t_avg.min()+1, 'min='+str(df.t_avg.min())+'us', color='green')\n",
    "plt.legend(loc=\"upper left\")\n",
    "plt.minorticks_on()"
   ]
  }
 ],
 "metadata": {
  "kernelspec": {
   "display_name": "Python 3",
   "language": "python",
   "name": "python3"
  },
  "language_info": {
   "codemirror_mode": {
    "name": "ipython",
    "version": 3
   },
   "file_extension": ".py",
   "mimetype": "text/x-python",
   "name": "python",
   "nbconvert_exporter": "python",
   "pygments_lexer": "ipython3",
   "version": "3.8.3"
  }
 },
 "nbformat": 4,
 "nbformat_minor": 4
}
